{
 "cells": [
  {
   "cell_type": "code",
   "execution_count": 1,
   "metadata": {},
   "outputs": [
    {
     "name": "stderr",
     "output_type": "stream",
     "text": [
      "Using TensorFlow backend.\n"
     ]
    }
   ],
   "source": [
    "import numpy as np\n",
    "import pandas as pd\n",
    "\n",
    "from keras.models import Sequential\n",
    "from keras.layers import Dense\n",
    "from keras.layers import Dropout\n",
    "from keras.layers import Flatten\n",
    "from keras.layers.convolutional import Conv2D\n",
    "from keras.layers.convolutional import MaxPooling2D\n",
    "from keras.utils import np_utils\n",
    "from keras import backend as K\n",
    "K.set_image_dim_ordering('th')\n",
    "\n",
    "\n",
    "# fix random seed for reproducibility\n",
    "seed = 7\n",
    "np.random.seed(seed)"
   ]
  },
  {
   "cell_type": "code",
   "execution_count": 2,
   "metadata": {},
   "outputs": [
    {
     "name": "stdout",
     "output_type": "stream",
     "text": [
      "(42000, 785)\n",
      "(28000, 784)\n"
     ]
    }
   ],
   "source": [
    "train = pd.read_csv('kaggle_train.csv')\n",
    "print(train.shape)\n",
    "test = pd.read_csv('kaggle_test.csv')\n",
    "print(test.shape)"
   ]
  },
  {
   "cell_type": "code",
   "execution_count": 3,
   "metadata": {
    "collapsed": true
   },
   "outputs": [],
   "source": [
    "labels = train.iloc[:, 0].values.astype('int32')\n",
    "X_train = (train.iloc[:, 1:].values).astype('float32')\n",
    "X_test = (test.values).astype('float32')"
   ]
  },
  {
   "cell_type": "code",
   "execution_count": 4,
   "metadata": {
    "collapsed": true
   },
   "outputs": [],
   "source": [
    "X_train = X_train.reshape(X_train.shape[0], 1, 28, 28)\n",
    "X_test = X_test.reshape(X_test.shape[0], 1, 28, 28)\n",
    "\n",
    "# one hot encode outputs\n",
    "y_train = np_utils.to_categorical(labels)\n",
    "num_classes = y_train.shape[1]"
   ]
  },
  {
   "cell_type": "code",
   "execution_count": 5,
   "metadata": {
    "collapsed": true
   },
   "outputs": [],
   "source": [
    "# normalize inputs from 0-255 to 0-1\n",
    "X_train = X_train / 255\n",
    "X_test = X_test / 255\n",
    "\n",
    "mean = np.std(X_train)\n",
    "X_train -= mean\n",
    "X_test -= mean"
   ]
  },
  {
   "cell_type": "code",
   "execution_count": 6,
   "metadata": {
    "collapsed": true
   },
   "outputs": [],
   "source": [
    "model = Sequential()\n",
    "model.add(Conv2D(30, (5,5), input_shape=(1, 28, 28), activation='relu'))\n",
    "model.add(MaxPooling2D(pool_size=(2,2)))\n",
    "model.add(Conv2D(15, (3,3), activation='relu'))\n",
    "model.add(MaxPooling2D(pool_size=(2,2)))\n",
    "model.add(Dropout(0.2))\n",
    "model.add(Flatten())\n",
    "model.add(Dense(128, activation='relu'))\n",
    "model.add(Dense(50, activation='relu'))\n",
    "model.add(Dense(num_classes, activation='softmax'))"
   ]
  },
  {
   "cell_type": "code",
   "execution_count": 7,
   "metadata": {
    "collapsed": true
   },
   "outputs": [],
   "source": [
    "model.compile(loss='categorical_crossentropy', optimizer='adam', metrics=['accuracy'])"
   ]
  },
  {
   "cell_type": "code",
   "execution_count": 8,
   "metadata": {},
   "outputs": [
    {
     "name": "stdout",
     "output_type": "stream",
     "text": [
      "Train on 37800 samples, validate on 4200 samples\n",
      "Epoch 1/20\n",
      "63s - loss: 0.2354 - acc: 0.9243 - val_loss: 0.0592 - val_acc: 0.9798\n",
      "Epoch 2/20\n",
      "62s - loss: 0.0766 - acc: 0.9765 - val_loss: 0.0484 - val_acc: 0.9855\n",
      "Epoch 3/20\n",
      "62s - loss: 0.0557 - acc: 0.9821 - val_loss: 0.0415 - val_acc: 0.9852\n",
      "Epoch 4/20\n",
      "62s - loss: 0.0470 - acc: 0.9852 - val_loss: 0.0381 - val_acc: 0.9862\n",
      "Epoch 5/20\n",
      "61s - loss: 0.0409 - acc: 0.9868 - val_loss: 0.0327 - val_acc: 0.9898\n",
      "Epoch 6/20\n",
      "62s - loss: 0.0339 - acc: 0.9890 - val_loss: 0.0355 - val_acc: 0.9888\n",
      "Epoch 7/20\n",
      "62s - loss: 0.0299 - acc: 0.9907 - val_loss: 0.0331 - val_acc: 0.9879\n",
      "Epoch 8/20\n",
      "61s - loss: 0.0292 - acc: 0.9909 - val_loss: 0.0334 - val_acc: 0.9895\n",
      "Epoch 9/20\n",
      "61s - loss: 0.0258 - acc: 0.9917 - val_loss: 0.0266 - val_acc: 0.9895\n",
      "Epoch 10/20\n",
      "63s - loss: 0.0232 - acc: 0.9927 - val_loss: 0.0424 - val_acc: 0.9843\n",
      "Epoch 11/20\n",
      "62s - loss: 0.0224 - acc: 0.9929 - val_loss: 0.0316 - val_acc: 0.9905\n",
      "Epoch 12/20\n",
      "62s - loss: 0.0196 - acc: 0.9939 - val_loss: 0.0275 - val_acc: 0.9919\n",
      "Epoch 13/20\n",
      "61s - loss: 0.0199 - acc: 0.9936 - val_loss: 0.0313 - val_acc: 0.9900\n",
      "Epoch 14/20\n",
      "62s - loss: 0.0172 - acc: 0.9943 - val_loss: 0.0279 - val_acc: 0.9917\n",
      "Epoch 15/20\n",
      "62s - loss: 0.0166 - acc: 0.9943 - val_loss: 0.0314 - val_acc: 0.9910\n",
      "Epoch 16/20\n",
      "61s - loss: 0.0174 - acc: 0.9946 - val_loss: 0.0247 - val_acc: 0.9921\n",
      "Epoch 17/20\n",
      "62s - loss: 0.0170 - acc: 0.9943 - val_loss: 0.0262 - val_acc: 0.9917\n",
      "Epoch 18/20\n",
      "61s - loss: 0.0150 - acc: 0.9951 - val_loss: 0.0291 - val_acc: 0.9933\n",
      "Epoch 19/20\n",
      "65s - loss: 0.0154 - acc: 0.9948 - val_loss: 0.0348 - val_acc: 0.9912\n",
      "Epoch 20/20\n",
      "64s - loss: 0.0146 - acc: 0.9952 - val_loss: 0.0275 - val_acc: 0.9912\n"
     ]
    },
    {
     "data": {
      "text/plain": [
       "<keras.callbacks.History at 0xf7c04e0>"
      ]
     },
     "execution_count": 8,
     "metadata": {},
     "output_type": "execute_result"
    }
   ],
   "source": [
    "model.fit(X_train, y_train, epochs=20, batch_size=32, validation_split=0.1, verbose=2)"
   ]
  },
  {
   "cell_type": "code",
   "execution_count": 9,
   "metadata": {},
   "outputs": [
    {
     "name": "stdout",
     "output_type": "stream",
     "text": [
      "Large CNN Error: 0.21%\n"
     ]
    }
   ],
   "source": [
    "scores = model.evaluate(X_train, y_train, verbose=0)\n",
    "print(\"Large CNN Error: %.2f%%\" % (100-scores[1]*100))"
   ]
  },
  {
   "cell_type": "code",
   "execution_count": 10,
   "metadata": {},
   "outputs": [
    {
     "name": "stdout",
     "output_type": "stream",
     "text": [
      "Generating test predictions...\n"
     ]
    }
   ],
   "source": [
    "print(\"Generating test predictions...\")\n",
    "preds = model.predict_classes(X_test, verbose=0)"
   ]
  },
  {
   "cell_type": "code",
   "execution_count": 11,
   "metadata": {},
   "outputs": [
    {
     "data": {
      "text/plain": [
       "array([2, 0, 9, ..., 3, 9, 2], dtype=int64)"
      ]
     },
     "execution_count": 11,
     "metadata": {},
     "output_type": "execute_result"
    }
   ],
   "source": [
    "preds"
   ]
  },
  {
   "cell_type": "code",
   "execution_count": 12,
   "metadata": {
    "collapsed": true
   },
   "outputs": [],
   "source": [
    "def write_preds(preds, fname):\n",
    "    pd.DataFrame({\"ImageId\": list(range(1, len(preds)+1)), \"Label\": preds}).to_csv(fname, index=False, header=True)\n",
    "write_preds(preds, 'keras-larger_cnn-jb2.csv')  "
   ]
  },
  {
   "cell_type": "code",
   "execution_count": 13,
   "metadata": {},
   "outputs": [
    {
     "name": "stdout",
     "output_type": "stream",
     "text": [
      "_________________________________________________________________\n",
      "Layer (type)                 Output Shape              Param #   \n",
      "=================================================================\n",
      "conv2d_1 (Conv2D)            (None, 30, 24, 24)        780       \n",
      "_________________________________________________________________\n",
      "max_pooling2d_1 (MaxPooling2 (None, 30, 12, 12)        0         \n",
      "_________________________________________________________________\n",
      "conv2d_2 (Conv2D)            (None, 15, 10, 10)        4065      \n",
      "_________________________________________________________________\n",
      "max_pooling2d_2 (MaxPooling2 (None, 15, 5, 5)          0         \n",
      "_________________________________________________________________\n",
      "dropout_1 (Dropout)          (None, 15, 5, 5)          0         \n",
      "_________________________________________________________________\n",
      "flatten_1 (Flatten)          (None, 375)               0         \n",
      "_________________________________________________________________\n",
      "dense_1 (Dense)              (None, 128)               48128     \n",
      "_________________________________________________________________\n",
      "dense_2 (Dense)              (None, 50)                6450      \n",
      "_________________________________________________________________\n",
      "dense_3 (Dense)              (None, 10)                510       \n",
      "=================================================================\n",
      "Total params: 59,933\n",
      "Trainable params: 59,933\n",
      "Non-trainable params: 0\n",
      "_________________________________________________________________\n"
     ]
    }
   ],
   "source": [
    "model.summary()"
   ]
  }
 ],
 "metadata": {
  "kernelspec": {
   "display_name": "Python [conda root]",
   "language": "python",
   "name": "conda-root-py"
  },
  "language_info": {
   "codemirror_mode": {
    "name": "ipython",
    "version": 3
   },
   "file_extension": ".py",
   "mimetype": "text/x-python",
   "name": "python",
   "nbconvert_exporter": "python",
   "pygments_lexer": "ipython3",
   "version": "3.5.3"
  }
 },
 "nbformat": 4,
 "nbformat_minor": 2
}
